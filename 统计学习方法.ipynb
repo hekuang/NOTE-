{
 "cells": [
  {
   "cell_type": "markdown",
   "metadata": {},
   "source": [
    "<a id = \"0\"> </a>\n",
    "## 目录\n",
    "\n",
    "- [第1章. 统计学及方法概论](#1)\n",
    "- [第2章. 感知机](#2)\n",
    "- [第3章. k 近邻法](#3)"
   ]
  },
  {
   "cell_type": "markdown",
   "metadata": {},
   "source": [
    "<a id = \"1\"></a>\n",
    "# [第1章. 统计学及方法概论](#0)"
   ]
  },
  {
   "cell_type": "markdown",
   "metadata": {},
   "source": [
    "### 1.1.统计学习\n",
    "\n",
    "假设空间：模型，某个函数合集 （输入空间到输出空间映射的合集） \n",
    "假设空间 ==评价准则==>> 最优模型 ( 最优模型的选取，又算法实现）\n",
    "\n",
    "**算法**根据**评价准则（策略）**利用训练数据在**假设空间**中选择出最优模型，利用最优模型对新数据进行预测或分析\n",
    "\n",
    "\n",
    "### 1.2.监督学习\n",
    "\n",
    "输入：具体输入也叫实例（instance），也是欧式空间的一个特征向量（feature vector) ，所以特征向量合集叫做特征空间\n",
    "\n",
    "- 方法： \n",
    "     - 分类：输入变量为有限离散变量\n",
    "     - 标记：输入输出变量均为变量序列\n",
    "     - 回归：输入与输出变量均为连续变量\n",
    "     \n",
    "- P(X,Y)分布函数，对于系统来说是未知的\n",
    "\n",
    "\n",
    "### 1.3. 统计学习三要素\n"
   ]
  },
  {
   "cell_type": "markdown",
   "metadata": {},
   "source": [
    "统计学习方法 = 模型 +　策略 + 算法\n",
    "\n",
    "#### 模型\n",
    "> 要学习的条件概率P(Y|X)或决策函数Y=f（X)  \n",
    "模型的假设空间：所有要学习的条件概率P(Y|X)或决策函数Y=f（X)\n",
    "\n",
    "#### 策略 （准测）\n",
    "统计学习目的：从假设空间选取最优模型 ，选择期望风险最小的模型   \n",
    "- 损失函数L：度量模型**一次**预测的好坏，预测的错误程度，越低越好\n",
    "- 风险函数(期望损失)R: 度量**平均**意义下模拟预测的好坏\n",
    "> 样本的分布无限接近无联合分布P(X,Y)，经验风险（模型关于训练样本）就无限趋于期望风险（期望损失）\n",
    "- 经验风险最小化（empirical risk minimization, ERM ): 经验风险最小= 最优模型\n",
    "> 样本不足，容易过拟合\n",
    "- 结构风险最小化（ structural risk minimization, SRM): 等价于正则化。  \n",
    "经验风险上加入正则化项目或罚项\n",
    "\n",
    "#### 算法\n",
    "> 模型的具体计算方法，找到全局最优解。\n",
    "\n",
    "\n"
   ]
  },
  {
   "cell_type": "markdown",
   "metadata": {},
   "source": [
    "### 1.4. 模型评估与模型选择\n",
    "\n",
    "#### 训练误差与测试误差\n",
    "\n",
    "- 训练误差(training error ): 判定给定问题是否容易学习，本质**不重要**\n",
    "- 测试误差(test error): 反映学习方法对未知的测试数据集的预测能力（**泛化能力**），是学习中的重要概念\n",
    "- "
   ]
  },
  {
   "cell_type": "code",
   "execution_count": null,
   "metadata": {},
   "outputs": [],
   "source": []
  }
 ],
 "metadata": {
  "kernelspec": {
   "display_name": "Python 3",
   "language": "python",
   "name": "python3"
  },
  "language_info": {
   "codemirror_mode": {
    "name": "ipython",
    "version": 3
   },
   "file_extension": ".py",
   "mimetype": "text/x-python",
   "name": "python",
   "nbconvert_exporter": "python",
   "pygments_lexer": "ipython3",
   "version": "3.6.4"
  }
 },
 "nbformat": 4,
 "nbformat_minor": 2
}
