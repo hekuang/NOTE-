{
 "cells": [
  {
   "cell_type": "markdown",
   "metadata": {},
   "source": [
    "[TCP/IP网络协议基础---实验楼](https://www.shiyanlou.com/courses/98)\n",
    "\n",
    "[Java Socket应用---慕课网](https://www.imooc.com/learn/161)"
   ]
  },
  {
   "cell_type": "markdown",
   "metadata": {},
   "source": [
    "# 1.背景\n",
    "TCP/IP：传输控制协议和网络协议的简称。\n",
    "> 定义了电子设备如何介入因特网，以及数据如何在他们之间传输的标准\n",
    "注意： 不是一个协议，而是一个协议族。包含：IP、ICMP、TCP、HTTP、ftp、pop3等协议\n",
    "\n",
    "\n",
    "- 应用层：应用程序通过这一层访问网络\n",
    "- 传输层：TCP协议和UDP协议\n",
    "- 网络层：IP协议，APR、PAPR协议、ICMP协议\n",
    "- 网络接口层：是TCP/IP协议的基层，负责数据帧的发送和接收\n",
    "<img src = \"./img/osi七层与TCP_IP四层.png\" width=\"66%\">\n",
    "<img src = \"./img/TCP_IP四层.png\" wdth =\"66%\">\n",
    "\n",
    "\n"
   ]
  },
  {
   "cell_type": "markdown",
   "metadata": {},
   "source": [
    "# 2 预备知识\n",
    "\n",
    "### 2.1 IP地址\n",
    "网络每一个节点毕业有一个独立的IP地址，有了IP地址，用户的计算机就可以发现并连接互联网中的另外一台计算机\n",
    "\n",
    "### 2.2 域名\n",
    "域名对应IP地址，并把这种关系存储在域名服务系统DNS中\n",
    "\n",
    "可以使用nsloopup和ping查看与域名对应的IP地址\n",
    "\n",
    "### 2.3.MAC地址\n",
    "\n",
    "MAC(Media Access Control),也叫物理地址、硬件地址，用来定义互联网中设备的位置\n",
    "> TCP/IP层次模型中，网络层管理IP地址，链路层负责MAC 地址，所以每个网络位置会有一个专属的IP地址，每个主机会有一个专属的MAC 地址\n",
    "\n",
    "\n",
    "### 2.4. 端口号\n",
    "负责不同程序间的通信\n",
    "\n",
    "常见协议端口号：\n",
    "    - SSH 22\n",
    "    - FTP 20和21\n",
    "    - Telnet 23\n",
    "    - SMTP 25\n",
    "    - TCP 25\n",
    "    - TFTP 69\n",
    "    - HTTP 80\n",
    "    - SNMP 161\n",
    "    - Ping使用ICMP无具体端口号\n",
    "    \n",
    "### 2.5. 封装与分用\n",
    "\n",
    "<img src = \"./img/封装与应用.png\" width = \"66%\">\n",
    "\n",
    "#### 封装\n",
    "应用程序发送数据，数据在协议层从顶向下通过每一层，每一层都会对数据增加一些首部或者尾部信息（协议数据单元）  \n",
    "协议数据单元（Protocol Data Unit， PDU），包含了该层的协议控制信息和用户信息，\n",
    "- 物理层（一层）PDU指数据位（Bit）\n",
    "- 数据链路层（二层）PDU指数据帧（Frame）\n",
    "- 网络层（三层）PDU指数据包（Packet）\n",
    "- 传输层（四层）PDU指数据段（Segment）\n",
    "- 第五层以上为数据（data）\n",
    "\n",
    "#### 分用\n",
    "当主机收到一个数据帧，数据从协议底层向上，通过每一次检查并去掉对应的层次的报文首部或尾部，与封装过程正好相反\n",
    "\n",
    "\n",
    "### 2.6.RFC\n",
    "RFC（Request for Comment）文档:所有以太网协议的正式标准\n",
    "\n",
    "并在其官网上面公布，由 IETF 标准协会制定。大量的 RFC 并不是正式的标准，出版的目的只是为了提供信息。RFC 的篇幅不一，从几页到几百页不等。每一种协议都用一个数字来标识，如 RFC 3720 是 iSCSI 协议的标准，数字越大说是 RFC 的内容越新或者是对应的协议（标准）出现的比较晚。\n",
    "\n",
    "所有的 RFC 文档都可以从网络上找到，其官网为[IETF](http://www.ietf.org/)。在网站上面可以通过分类以及搜索快速找到目标协议的 RFC 文档。目前在 IETF 网站上面的 RFC 文档有数千个，但是我们不需要全部掌握，在工作或学习中如果遇到可以找到对应的解释，理论与实际结合会有更好地效果，单纯阅读 RFC 的效果一般"
   ]
  },
  {
   "cell_type": "markdown",
   "metadata": {},
   "source": [
    "# 3.链路层\n",
    "\n",
    "### 3.1. 简介\n",
    "\n",
    "网络层（IP数据包）----------链路层（帧）\n",
    "功能：\n",
    "- 将数据封装为帧，帧是数据链路层的传送单位\n",
    "- 控制帧的传输，包括处理传输差错，调节发送速率与接受方向匹配\n",
    "- 在两个网络实体之间提供数据链路通路的建立、维护和释放的管理\n",
    "### 3.2. 控制帧的传输\n",
    "#### 差错控制\n",
    "\n",
    "- 反馈重发"
   ]
  }
 ],
 "metadata": {
  "kernelspec": {
   "display_name": "Python 3",
   "language": "python",
   "name": "python3"
  },
  "language_info": {
   "codemirror_mode": {
    "name": "ipython",
    "version": 3
   },
   "file_extension": ".py",
   "mimetype": "text/x-python",
   "name": "python",
   "nbconvert_exporter": "python",
   "pygments_lexer": "ipython3",
   "version": "3.6.4"
  }
 },
 "nbformat": 4,
 "nbformat_minor": 2
}
