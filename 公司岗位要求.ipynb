{
 "cells": [
  {
   "cell_type": "markdown",
   "metadata": {},
   "source": [
    "## [大数据](#0)"
   ]
  },
  {
   "attachments": {},
   "cell_type": "markdown",
   "metadata": {},
   "source": [
    "岗位职责：\n",
    "工作职责：\n",
    "1、负责企业领域金蝶云大数据服务平台的大数据套件后台系统的开发和维护。\n",
    "职位要求：\n",
    "1、热爱互联网，对探索未知领域有浓厚的兴趣；\n",
    "2、熟悉大数据套件及使用经验（hadoop、hive、spark、flume、kylin等等）；\n",
    "3、熟悉Java语言编程，熟悉linux平台、shell/python等脚本编程；\n",
    "4、对数据结构和算法设计有较为深刻的理解；\n",
    "5、良好的逻辑思维能力，对数据敏感，强烈的上进心和求知欲，较强的学习能力和沟通能力，具备良好的团队合作精神。\n",
    "\n",
    " \n"
   ]
  },
  {
   "attachments": {},
   "cell_type": "markdown",
   "metadata": {},
   "source": [
    "#### 数据开发工程师岗\n",
    "职位描述\n",
    "\n",
    "1、参与大数据应用产品架构的整体规划和设计；\n",
    "2、制定数据处理整个流水线的相关规范；\n",
    "3、大数据应用开发过程的技术难点攻关；\n",
    "4、将技术实现及业务场景联系起来，根据业务需求快速提出技术解决方案。\n",
    "职位要求\n",
    "\n",
    "1、计算机、数据相关专业；\n",
    "2、熟悉数据仓库设计，有际数据产品研发经验；\n",
    "4、熟悉数据爬取、存储、清洗、挖掘、API服务整体技术系统架构；\n",
    "5、熟悉Hadoop生态技术，包括Yarn、Hive、Spark、Kafka、HBase、HDFS、Sqoop、Flume、Presto、Zeppelin等；\n",
    "6、熟悉实时计算框架Storm、Flink、Spark Streaming其中之一；\n",
    "7、掌握java编程语言、Spring框架，熟悉Scala编程语言；\n",
    "8、良好的系统编程、算法基础、系统设计能力；\n",
    "\n",
    "#### 数据科学家岗\n",
    "职位描述\n",
    "\n",
    "1、应用数据挖掘，机器学习，自然语言处理等技术，针对海量信息建模，挖掘数据价值；\n",
    "2、参与公司数据挖掘算法开发和实现；\n",
    "3、研究前沿算法，并将最新的研究成果产品化；\n",
    "4、利用数据挖掘技术分析和解决算法应用过程中出现的问题；\n",
    "5、挖掘相关信息，分析关键因素，形成相关产品算法模型。\n",
    "6、开发和实现大规模分布式机器学习和深度算法并负责数据挖掘模型效果评估，部署上线，迭代优化工作。\n",
    "职位要求\n",
    "\n",
    "1、计算机、图形学、数学、统计学、通信、模式识别等相关专业，硕士及以上学历；\n",
    "2、熟悉大规模数据挖掘、机器学习、自然语言处理、分布式计算等相关技术；\n",
    "3、熟悉JAVA/Python/R 语言编程，对数据结构和算法设计有较为深刻的理解 ；\n",
    "4、有大规模用户数据或互联网内容数据处理实习经验者优先；\n",
    "5、良好的逻辑思维能力，优秀的独立分析和解决问题能力，对解决具有挑战性问题充满激情。\n",
    "6、自我驱动能力较强，具有系统思考能力和创新精神；"
   ]
  },
  {
   "cell_type": "code",
   "execution_count": null,
   "metadata": {},
   "outputs": [],
   "source": []
  }
 ],
 "metadata": {
  "kernelspec": {
   "display_name": "Python 3",
   "language": "python",
   "name": "python3"
  },
  "language_info": {
   "codemirror_mode": {
    "name": "ipython",
    "version": 3
   },
   "file_extension": ".py",
   "mimetype": "text/x-python",
   "name": "python",
   "nbconvert_exporter": "python",
   "pygments_lexer": "ipython3",
   "version": "3.6.4"
  }
 },
 "nbformat": 4,
 "nbformat_minor": 2
}
