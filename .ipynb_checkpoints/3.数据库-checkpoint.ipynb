{
 "cells": [
  {
   "cell_type": "markdown",
   "metadata": {},
   "source": [
    "<a id = \"0\"></a>\n",
    "目录\n",
    "\n",
    "- [1.概念](#1)\n",
    "- [2.操作](#2)\n",
    "- [3.MySQL-书](#3)"
   ]
  },
  {
   "cell_type": "markdown",
   "metadata": {},
   "source": [
    "<a id = \"1\"></a>\n",
    "# [1.数据库  概念](#0)\n"
   ]
  },
  {
   "cell_type": "markdown",
   "metadata": {},
   "source": [
    "https://zhuanlan.zhihu.com/p/23713529?refer=passer\n",
    "<img src = \"./img/数据库.jpg\" width = \"77%\">\n"
   ]
  },
  {
   "cell_type": "code",
   "execution_count": null,
   "metadata": {},
   "outputs": [],
   "source": []
  },
  {
   "cell_type": "code",
   "execution_count": null,
   "metadata": {},
   "outputs": [],
   "source": []
  },
  {
   "cell_type": "code",
   "execution_count": null,
   "metadata": {},
   "outputs": [],
   "source": []
  },
  {
   "cell_type": "markdown",
   "metadata": {},
   "source": [
    "# 1.什么是存储过程和函数，有哪些优缺点\n",
    "\n"
   ]
  },
  {
   "cell_type": "markdown",
   "metadata": {},
   "source": [
    "- 一条或者多条SQL语句的合集"
   ]
  },
  {
   "cell_type": "code",
   "execution_count": null,
   "metadata": {},
   "outputs": [],
   "source": []
  },
  {
   "cell_type": "markdown",
   "metadata": {},
   "source": [
    "<a id = \"2\"></a>\n",
    "# [2.数据库操作](#0)"
   ]
  },
  {
   "cell_type": "markdown",
   "metadata": {},
   "source": []
  },
  {
   "cell_type": "code",
   "execution_count": null,
   "metadata": {},
   "outputs": [],
   "source": []
  },
  {
   "cell_type": "markdown",
   "metadata": {},
   "source": [
    "<a id = '3'></a>\n",
    "# [3.MySQL - 书](#0)"
   ]
  },
  {
   "cell_type": "markdown",
   "metadata": {},
   "source": [
    "\n",
    "- [第一章   数据库概览](#3.1)\n",
    "- [第三章   MySQ基本操作](#3.3)\n",
    "- [第四章   MySQL数据库中存储引擎和数据类型](#3.4)\n",
    "- [第五章   表的操作](#3.5)\n",
    "- [第六章   索引的操作](#3.6)\n",
    "- [第七章   视图的操作](#3.7)\n",
    "- [第八章   触发器的操作](#3.8)\n",
    "- [第九章   数据的操作](#3.9)\n",
    "- [第十章   单表数据记录查询](#3.10)\n",
    "- [第十一章  多表数据记录查询](#3.11)"
   ]
  },
  {
   "cell_type": "markdown",
   "metadata": {},
   "source": [
    "- 语句结束标志\n",
    "    - ; \n",
    "    - \\g\n",
    "    - \\G\n",
    " "
   ]
  },
  {
   "cell_type": "markdown",
   "metadata": {},
   "source": [
    "<a id = \"3.1\"></a>\n",
    "## [第一章 数据库概览](#3)"
   ]
  },
  {
   "cell_type": "markdown",
   "metadata": {},
   "source": [
    "数据\n",
    "- 文档型 ：sqlite ,就是一个文件\n",
    "- 服务型 ：mysql,（服务端+客户端）\n",
    "\n",
    "#### E-R模型  \n",
    "E:entry，实体  \n",
    "R：relationship，关系\n",
    "\n",
    "关系：\n",
    "- 一对一\n",
    "- 一对多\n",
    "- 多对多\n",
    "\n",
    "\n",
    "#### 三范式：数据库设计规范\n",
    "- 第一范式（1NF)： 列不可拆分\n",
    "- 第二范式（2NF):  唯一标识\n",
    "- 第三范式（3NF)： 引用主键  \n",
    "说明：后一个范式，都是前一个范式的基础上建立的\n",
    "\n",
    "\n",
    "#### 完整性\n",
    "\n",
    "保证数据正确\n",
    "- 指定数据类型\n",
    "    - 数字：int，decimal浮点\n",
    "    - 字符串：char固定,varchar可变,text大文本\n",
    "    - 日期：datetime \n",
    "    - 布尔：bit\n",
    "- 约束\n",
    "    - 主键 primary key\n",
    "    - 非空 not null\n",
    "    - 唯一 unique\n",
    "    - 默认 default\n",
    "    - 外键 foreign key"
   ]
  },
  {
   "cell_type": "markdown",
   "metadata": {},
   "source": [
    "<a id = \"3.3\"></a>\n",
    "##  [第三章 MySQL基本操作](#3)"
   ]
  },
  {
   "cell_type": "markdown",
   "metadata": {},
   "source": [
    "- 启动   \n",
    "`sudo service mysql start`    \n",
    "`mysql -uroot`  \n",
    "\n",
    "- 创建  \n",
    "`create Database database_name ;`\n",
    "- 查询  \n",
    "`show Databases;`\n",
    "- 切换  \n",
    "`use database_name;`\n",
    "- 删除  \n",
    "`drop database database_name;`\n",
    "- 加载本地数据库  \n",
    "`source 目录`"
   ]
  },
  {
   "cell_type": "markdown",
   "metadata": {},
   "source": [
    "<a id = '3.4'></a>\n",
    "## [第四章 MySQL数据库中存储引擎和数据类型](#3)"
   ]
  },
  {
   "cell_type": "markdown",
   "metadata": {},
   "source": [
    "#### 存储引擎\n",
    "- 安装包mysql默认为InnoDB\n",
    "- 免安装版默认为 MyISAM\n",
    "\n",
    "#### 数据类型\n",
    "- 日期类型\n",
    "    - data\n",
    "    - datatime\n",
    "    - timestamp\n",
    "    - time\n",
    "    - year"
   ]
  },
  {
   "cell_type": "markdown",
   "metadata": {},
   "source": [
    "<a id = '3.5'></a>\n",
    "##  [第五章 表的操作](#3)\n",
    "         "
   ]
  },
  {
   "cell_type": "markdown",
   "metadata": {},
   "source": [
    "####  5.1 表的基本概念\n",
    "- 列（columns): 也称属性列 创建时需要指定列的名字和属性 \n",
    "- 索引（Indexes);\n",
    "- 触发器（Triggers):\n",
    "\n",
    "#### 5.2 创建表\n",
    "\n",
    "- 创建表  \n",
    "`create table table_name(属性名 数据类型，....)`\n",
    "\n",
    "\n",
    "- 查看表结构    \n",
    "` describe table_name` 简写 `desc table_name`\n",
    "\n",
    "\n",
    "- 查看表详细定义    \n",
    "` show create table table_name`\n",
    "\n",
    "\n",
    "- 删除表  \n",
    "` drop table table_name`\n",
    "\n",
    "\n",
    "#### 5.5 修改表\n",
    "\n",
    "- 修改表名  \n",
    "`alter table old_talbe_name rename [to] new_table_name`  \n",
    "\n",
    "\n",
    "- 增加字段（列常被称为字段）  \n",
    "1.增加在最后  \n",
    "`alter table table_name add 属性名 类型`  \n",
    "2.增加在最前  \n",
    "`alter table table_name add 属性名 类型 first`    \n",
    "3.在表的指定字段后添加  \n",
    "`alter table table_name add 属性名 类型 after 属性名`  \n",
    "\n",
    "\n",
    "\n",
    "- 删除字段  \n",
    " ` alter table table_name droop 属性名`  \n",
    " \n",
    " \n",
    "- 修改字段   \n",
    "1.修改字段数据类型  \n",
    "` alter table table_name modify 属性名 数据类型`  \n",
    "2.修改字段名字   \n",
    "` alter table table_name  change 旧属性名 新属性名 旧数据类型`  \n",
    "3.同时修改名字和类型   \n",
    "` alter table table_name change 旧属性名 新属性名 新数据类型`  \n",
    "4.修改字段顺序  \n",
    "`alter table table_name modify 属性名1 数据类型 first|after 属性名2`  \n",
    "\n",
    "\n",
    "#### 5.7 操作表的约束\n",
    "\n",
    "1.设置非空约束（not null ,NK)\n",
    "> 字段不希望设置\n",
    "\n",
    "`create table table_name （属性名 类型  not null);`\n",
    "\n",
    "2.设置字段的默认值（default)\n",
    "> 能自动添加的默认值\n",
    "\n",
    "`create table table_name (属性名 类型 default 默认值);`\n",
    "\n",
    "3.设置唯一约束（UNIQUE,UK)  \n",
    "> 字段内容不允许重复  \n",
    "\n",
    "`create table table_nama (属性名 数据类型 unique....);`  \n",
    "添加唯一约束的标识符  \n",
    "` 属性名 数据类型, constraint 标识符 unique(属性名)`\n",
    "\n",
    "\n",
    "4.设置主键约束 （primary key, pk)\n",
    ">数据库中某个字段来唯一标识所有记录\n",
    "\n",
    "- 单字段主键   \n",
    "` create table table_name （ 属性名 数据类型primary key ,.....);`  \n",
    "\n",
    "添加PK约束束的标识符  \n",
    "` 属性名 数据类型, constraint 标识符 primary key(属性名)`  \n",
    "\n",
    "\n",
    "- 多字段主键\n",
    "\n",
    "` constraint 约束名 primary key(属性名1，属性名2，...)`\n",
    "\n",
    "\n",
    "5.设置字段自动增加( auto_increment)  \n",
    "> mysql中唯一扩展的完整性约束，一个数据库表只有能有一个。必须是整数   \n",
    " `在属性后添加`\n",
    " \n",
    "6.设置外键约束（foreign key ,fk)  \n",
    "> 设置两个表的父子关系，两个表中两个字段的参照关系。\n",
    "\n",
    "` constraint 外键约束名 foreign key (属性名1） references 表名（属性名2）`\n",
    "\n",
    "\n",
    "\n",
    " \n",
    " \n",
    " \n",
    " \n",
    "\n",
    "\n"
   ]
  },
  {
   "cell_type": "markdown",
   "metadata": {},
   "source": [
    " <a id = '3.6'></a>\n",
    " ## [第六章 索引的操作](#3)"
   ]
  },
  {
   "cell_type": "markdown",
   "metadata": {},
   "source": [
    "#### 6.1 介绍\n",
    "> 类似目录，用于提高表检索数据的速度。创建在数据库表对象上，由表中一个字段或多个字段生产的键组成。\n",
    "\n",
    "\n",
    "1. 根据存储类型分类\n",
    "    - B型树索引（BTREE)\n",
    "    - 哈希索引（HASH)\n",
    "    \n",
    "2. MySQL支持（普通、唯一、全文、单列、多列、空间）六种索引\n",
    "3. 适合创建索引的情况\n",
    "    - 经常被查询的字段，即在where子句中出现的字段\n",
    "    - 在分组的字段，即在group by子句中出现的字段\n",
    "    - 存在依赖关系的子表和父表之间的联合查询，即主键和外键字段\n",
    "    - 是指唯一完整性约束的字段\n",
    "4. 不适合创建索引的情况\n",
    "    - 在查询中很少被使用的字段\n",
    "    - 拥有许多重复值的字段\n",
    "    \n",
    "#### 6.2 创建和查看索引\n",
    "\n",
    "1. 普通索引（不附加条件的索引）  \n",
    "1.1 创建表后添加  \n",
    "`index|key 【索引名】(属性名1 【长度】 【asc|desc】)`  \n",
    "注： idex和key都可以，长度用来指定索引长度，asc升序排序，desc降序排序，【可省略】  \n",
    "1.2 旧表增加  \n",
    "` create index 索引名 on 表名（属性名 【长度】 【asc|desc】)`  \n",
    "1.3 alter 创建  \n",
    "`alter table table_name add index|key (属性名 【长度】 【asc|desc】）`\n",
    "\n",
    "#### 6.3 创建和查看唯一索引\n",
    "限制索引的值必须唯一，可以更快查询记录。\n",
    "- 自动索引：设置完整性约束后，会自动创建索引\n",
    "- 说动索引：\n",
    "\n",
    "比普通索引多了个关键字`unique `\n",
    "`unique index|key`\n",
    "\n",
    "#### 6.4 创建和查看全文索引\n",
    "全文索引主要关联在数据类型char，varchar和text上，以便能查询数据量较大的字符串类型的字段。只能在存储引擎为MyISAM上的数据库使用。默认不区分大小写\n",
    "\n",
    "\n",
    "\n",
    "比普通索引多了个关键字`fulltext `\n",
    "`fulltext index|key`\n",
    "\n",
    "#### 6.4 创建和查看多列索引\n",
    "`index|key 【索引名】 （属性名1 【长度】 【asc|desc】， ....属性名n 【长度】 【asc|desc】)`\n",
    "\n",
    "#### 6.5 删除索引\n",
    "`drop index index_name on table_name`"
   ]
  },
  {
   "cell_type": "markdown",
   "metadata": {},
   "source": [
    "<a id = '3.7'></a>\n",
    "## [第七章 视图的操作](#3)\n",
    "\n",
    "- 视图的相关概念；\n",
    "- 视图的基本操作：创建、查看、更新和删除。"
   ]
  },
  {
   "cell_type": "markdown",
   "metadata": {},
   "source": [
    "#### 7.1.视图介绍\n",
    "1. 为了提高复杂SQL语句的复用性和表操作的安全性，提供了视图特性。\n",
    "2. 本质是一个虚拟表，但是并不在数据库以存储得到方式存在\n",
    "3. 特点：\n",
    "    - 视图可以来自不同表，是表的抽象和逻辑意义上建立的新关系\n",
    "     视图是由基本表（实表）产生的虚表\n",
    "    - 视图的建立和删除不影响基本表\n",
    "    - 视图内容-的更新（添加、删除、修改)直接影响基本表\n",
    "    - 当视图来自多个表，不允许添加和删除数据\n",
    "\n",
    "#### 7.2. 创建视图\n",
    "` create view view_name as 查询语句`\n",
    "\n",
    "#### 7.2. 查看视图\n",
    "`desc view_name`\n",
    "\n",
    "#### 7.4. 删除视图\n",
    "`drop view view_name 【,view_name2】....`"
   ]
  },
  {
   "cell_type": "markdown",
   "metadata": {},
   "source": [
    "<a id='3.8'></a>\n",
    "## [第八章   触发器的操作](#3)"
   ]
  },
  {
   "cell_type": "markdown",
   "metadata": {},
   "source": [
    "#### 8.1.介绍\n",
    "触发器：MySQL的数据对象之一，需要声明、执行。由事件触发\n",
    "- delete\n",
    "- insert\n",
    "- update\n",
    "\n",
    "#### 8.2. 创建触发器\n",
    "trigger_stmt: 触发后执行的语句\n",
    "```SQL\n",
    "create trigger trigger_name\n",
    "    before|after trigger_event\n",
    "       on table_name for each row trigger_stmt\n",
    "```\n",
    "\n",
    "#### 8.3. 查看触发器\n",
    "`show triggers`\n",
    "\n",
    "#### 8.4. 删除触发器\n",
    "`drop trigger trigger_name`"
   ]
  },
  {
   "cell_type": "markdown",
   "metadata": {},
   "source": [
    "<a id ='3.9'></a>\n",
    "## [第九章   数据的操作](#3)"
   ]
  },
  {
   "cell_type": "markdown",
   "metadata": {},
   "source": [
    "#### 9.1. 插入数据记录\n",
    "> 字符串需要加引号\n",
    "\n",
    "1. 插入记录（包括插入部分，完整和多条记录）\n",
    "```SQL \n",
    "insert into table_name(field1,fild2,.....)\n",
    "    values(value11,value21,...),\n",
    "        (value12,value22,....),\n",
    "        ...\n",
    "        (value1m,value2m,....)\n",
    "```\n",
    "\n",
    "从查询结果插入\n",
    "```SQL \n",
    "insert into table_name(field1,fild2,.....)\n",
    "    select(field1,fild2,.....)\n",
    "        form table2_name\n",
    "        where condition\n",
    "```\n",
    "#### 9.2. 更新数据记录   \n",
    "\n",
    "```SQL\n",
    "update table_name\n",
    "    set field1 = value1,\n",
    "       field2 = value2,\n",
    "       ....\n",
    "       fieldm = valuem\n",
    "    where codition\n",
    "```\n",
    "\n",
    "#### 9.3.删除数据记录\n",
    "`delete from table_name where condition`"
   ]
  },
  {
   "cell_type": "markdown",
   "metadata": {},
   "source": [
    "<a id = '3.10'></a>\n",
    "## [第十章   单表数据记录查询](#3\n"
   ]
  },
  {
   "cell_type": "markdown",
   "metadata": {},
   "source": [
    "#### 10.1. 简单数据记录查询\n",
    "`select 【distinct】 *|field1 field2 ... from table_name`\n",
    "- 支持四则运算，如：field*10\n",
    "- concat设置显示格式\n",
    "\n",
    "#### 10.2.条件数据记录查询\n",
    "`select field1 field2..... from table_name where condition`\n",
    "- 注意：不等于（!=和<>)如：wehere job = 'clerk' and sal > = 18\n",
    "- wehere  【not】  bertween value1 and value2\n",
    "- 逻辑 与：and（&&） 或：or(||) 异或：xor 非：not（！）\n",
    "- 空值：is null\n",
    "- in: 查询数值是否在集合中\n",
    "- like：模糊查询‘-’：通配单字符 ‘%’： 通配任意字符\n",
    "\n",
    "#### 10.3.排序数据记录查询\n",
    "`select columns from table where order by 【desc|asc】`\n",
    "\n",
    "\n",
    "\n",
    "#### 10.5内置函数\n",
    "`select max(salary) as max_salary, min(salary) from employee`\n",
    "\n",
    "- count \n",
    "- sum \n",
    "- avg\n",
    "- max \n",
    "- min"
   ]
  },
  {
   "cell_type": "markdown",
   "metadata": {},
   "source": [
    "### 3.8实验楼 子查询\n",
    "```SQL\n",
    "SELECT of_dpt,COUNT(proj_name) AS count_project \n",
    "FROM project GROUP BY of_dpt\n",
    "HAVING of_dpt IN\n",
    "(SELECT in_dpt FROM employee WHERE name='Tom');\n",
    "```"
   ]
  },
  {
   "cell_type": "markdown",
   "metadata": {},
   "source": [
    "<a id = '3.11'></a>\n",
    "## [第十一章  多表数据记录查询](#3)"
   ]
  },
  {
   "cell_type": "markdown",
   "metadata": {},
   "source": [
    "```SQL\n",
    "SELECT id,name,people_num\n",
    "FROM employee JOIN department\n",
    "ON employee.in_dpt = department.dpt_name\n",
    "ORDER BY id;\n",
    "```"
   ]
  },
  {
   "cell_type": "code",
   "execution_count": null,
   "metadata": {},
   "outputs": [],
   "source": []
  }
 ],
 "metadata": {
  "kernelspec": {
   "display_name": "Python 3",
   "language": "python",
   "name": "python3"
  },
  "language_info": {
   "codemirror_mode": {
    "name": "ipython",
    "version": 3
   },
   "file_extension": ".py",
   "mimetype": "text/x-python",
   "name": "python",
   "nbconvert_exporter": "python",
   "pygments_lexer": "ipython3",
   "version": "3.6.4"
  }
 },
 "nbformat": 4,
 "nbformat_minor": 2
}
