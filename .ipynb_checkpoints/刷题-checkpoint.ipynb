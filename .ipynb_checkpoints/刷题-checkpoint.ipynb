{
 "cells": [
  {
   "cell_type": "markdown",
   "metadata": {},
   "source": [
    "#### 面试题3：二维数组查找"
   ]
  },
  {
   "cell_type": "code",
   "execution_count": 2,
   "metadata": {},
   "outputs": [
    {
     "name": "stdout",
     "output_type": "stream",
     "text": [
      "False\n",
      "True\n"
     ]
    }
   ],
   "source": [
    "def search(array, num):\n",
    "    # 参数合法性判断忽略\n",
    "    i = 0\n",
    "    j = len(array[0]) - 1\n",
    "    max_i = len(array) - 1\n",
    "    while i <= max_i and j >= 0:\n",
    "        if array[i][j] == num:\n",
    "            return True\n",
    "        elif array[i][j] > num:\n",
    "            j = j - 1\n",
    "        else:\n",
    "            i = i + 1\n",
    "    return False        \n",
    "    \n",
    "    \n",
    "if __name__ == '__main__':\n",
    "    a = [[1, 2, 8, 9],\n",
    "         [2, 4, 9, 12],\n",
    "         [4, 7, 10, 13],\n",
    "         [6, 8, 11, 15],\n",
    "         ]\n",
    "    print (search(a, 14))\n",
    "    print (search(a, 7))\n",
    "    "
   ]
  },
  {
   "cell_type": "code",
   "execution_count": null,
   "metadata": {},
   "outputs": [],
   "source": []
  }
 ],
 "metadata": {
  "kernelspec": {
   "display_name": "Python 3",
   "language": "python",
   "name": "python3"
  },
  "language_info": {
   "codemirror_mode": {
    "name": "ipython",
    "version": 3
   },
   "file_extension": ".py",
   "mimetype": "text/x-python",
   "name": "python",
   "nbconvert_exporter": "python",
   "pygments_lexer": "ipython3",
   "version": "3.6.4"
  }
 },
 "nbformat": 4,
 "nbformat_minor": 2
}
